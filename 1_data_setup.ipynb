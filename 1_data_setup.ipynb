{
 "cells": [
  {
   "cell_type": "code",
   "execution_count": 79,
   "metadata": {},
   "outputs": [],
   "source": [
    "import pandas as pd\n",
    "import numpy as np"
   ]
  },
  {
   "attachments": {},
   "cell_type": "markdown",
   "metadata": {},
   "source": [
    "# 1. Datensatz laden"
   ]
  },
  {
   "cell_type": "code",
   "execution_count": 80,
   "metadata": {},
   "outputs": [
    {
     "name": "stderr",
     "output_type": "stream",
     "text": [
      "/tmp/ipykernel_15312/2448395521.py:1: DtypeWarning: Columns (18,30,70,82) have mixed types. Specify dtype option on import or set low_memory=False.\n",
      "  df_slurm = pd.read_csv('task_and_data/slurmaccountdata_2020-01-01T00_00_00-2022-03-31T23_59_59_processed.csv', delimiter='|', index_col=0)\n"
     ]
    }
   ],
   "source": [
    "df_slurm = pd.read_csv('task_and_data/slurmaccountdata_2020-01-01T00_00_00-2022-03-31T23_59_59_processed.csv', delimiter='|', index_col=0)"
   ]
  },
  {
   "cell_type": "code",
   "execution_count": 81,
   "metadata": {},
   "outputs": [
    {
     "name": "stdout",
     "output_type": "stream",
     "text": [
      "shape:  (505261, 103)\n"
     ]
    },
    {
     "data": {
      "text/html": [
       "<div>\n",
       "<style scoped>\n",
       "    .dataframe tbody tr th:only-of-type {\n",
       "        vertical-align: middle;\n",
       "    }\n",
       "\n",
       "    .dataframe tbody tr th {\n",
       "        vertical-align: top;\n",
       "    }\n",
       "\n",
       "    .dataframe thead th {\n",
       "        text-align: right;\n",
       "    }\n",
       "</style>\n",
       "<table border=\"1\" class=\"dataframe\">\n",
       "  <thead>\n",
       "    <tr style=\"text-align: right;\">\n",
       "      <th></th>\n",
       "      <th>Account</th>\n",
       "      <th>AdminComment</th>\n",
       "      <th>AllocCPUS</th>\n",
       "      <th>AllocGRES</th>\n",
       "      <th>AllocNodes</th>\n",
       "      <th>AllocTRES</th>\n",
       "      <th>AssocID</th>\n",
       "      <th>AveCPU</th>\n",
       "      <th>AveCPUFreq</th>\n",
       "      <th>AveDiskRead</th>\n",
       "      <th>...</th>\n",
       "      <th>TRESUsageOutMaxNode</th>\n",
       "      <th>TRESUsageOutMaxTask</th>\n",
       "      <th>TRESUsageOutMin</th>\n",
       "      <th>TRESUsageOutMinNode</th>\n",
       "      <th>TRESUsageOutMinTask</th>\n",
       "      <th>TRESUsageOutTot</th>\n",
       "      <th>User</th>\n",
       "      <th>UserCPU</th>\n",
       "      <th>WCKey</th>\n",
       "      <th>WCKeyID</th>\n",
       "    </tr>\n",
       "  </thead>\n",
       "  <tbody>\n",
       "    <tr>\n",
       "      <th>0</th>\n",
       "      <td>94f78603-6e51-40ca-99c6-b494ac1ee324</td>\n",
       "      <td>NaN</td>\n",
       "      <td>768</td>\n",
       "      <td>NaN</td>\n",
       "      <td>32</td>\n",
       "      <td>billing=768,cpu=768,mem=5925G,node=32</td>\n",
       "      <td>0</td>\n",
       "      <td>NaN</td>\n",
       "      <td>NaN</td>\n",
       "      <td>NaN</td>\n",
       "      <td>...</td>\n",
       "      <td>NaN</td>\n",
       "      <td>NaN</td>\n",
       "      <td>NaN</td>\n",
       "      <td>NaN</td>\n",
       "      <td>NaN</td>\n",
       "      <td>NaN</td>\n",
       "      <td>1f847aac-d8bf-40ea-b747-405efe2ce745</td>\n",
       "      <td>00:00:00</td>\n",
       "      <td>NaN</td>\n",
       "      <td>0</td>\n",
       "    </tr>\n",
       "    <tr>\n",
       "      <th>1</th>\n",
       "      <td>94f78603-6e51-40ca-99c6-b494ac1ee324</td>\n",
       "      <td>NaN</td>\n",
       "      <td>384</td>\n",
       "      <td>NaN</td>\n",
       "      <td>16</td>\n",
       "      <td>billing=384,cpu=384,mem=2962.50G,node=16</td>\n",
       "      <td>0</td>\n",
       "      <td>NaN</td>\n",
       "      <td>NaN</td>\n",
       "      <td>NaN</td>\n",
       "      <td>...</td>\n",
       "      <td>NaN</td>\n",
       "      <td>NaN</td>\n",
       "      <td>NaN</td>\n",
       "      <td>NaN</td>\n",
       "      <td>NaN</td>\n",
       "      <td>NaN</td>\n",
       "      <td>1f847aac-d8bf-40ea-b747-405efe2ce745</td>\n",
       "      <td>00:00:00</td>\n",
       "      <td>NaN</td>\n",
       "      <td>0</td>\n",
       "    </tr>\n",
       "    <tr>\n",
       "      <th>2</th>\n",
       "      <td>94f78603-6e51-40ca-99c6-b494ac1ee324</td>\n",
       "      <td>NaN</td>\n",
       "      <td>384</td>\n",
       "      <td>NaN</td>\n",
       "      <td>16</td>\n",
       "      <td>billing=384,cpu=384,mem=2962.50G,node=16</td>\n",
       "      <td>0</td>\n",
       "      <td>NaN</td>\n",
       "      <td>NaN</td>\n",
       "      <td>NaN</td>\n",
       "      <td>...</td>\n",
       "      <td>NaN</td>\n",
       "      <td>NaN</td>\n",
       "      <td>NaN</td>\n",
       "      <td>NaN</td>\n",
       "      <td>NaN</td>\n",
       "      <td>NaN</td>\n",
       "      <td>1f847aac-d8bf-40ea-b747-405efe2ce745</td>\n",
       "      <td>00:00:00</td>\n",
       "      <td>NaN</td>\n",
       "      <td>0</td>\n",
       "    </tr>\n",
       "    <tr>\n",
       "      <th>3</th>\n",
       "      <td>94f78603-6e51-40ca-99c6-b494ac1ee324</td>\n",
       "      <td>NaN</td>\n",
       "      <td>192</td>\n",
       "      <td>NaN</td>\n",
       "      <td>8</td>\n",
       "      <td>billing=192,cpu=192,mem=1516800M,node=8</td>\n",
       "      <td>0</td>\n",
       "      <td>NaN</td>\n",
       "      <td>NaN</td>\n",
       "      <td>NaN</td>\n",
       "      <td>...</td>\n",
       "      <td>NaN</td>\n",
       "      <td>NaN</td>\n",
       "      <td>NaN</td>\n",
       "      <td>NaN</td>\n",
       "      <td>NaN</td>\n",
       "      <td>NaN</td>\n",
       "      <td>1f847aac-d8bf-40ea-b747-405efe2ce745</td>\n",
       "      <td>00:00:00</td>\n",
       "      <td>NaN</td>\n",
       "      <td>0</td>\n",
       "    </tr>\n",
       "    <tr>\n",
       "      <th>4</th>\n",
       "      <td>ee18ced8-5c8f-4b12-a606-6b282105d967</td>\n",
       "      <td>NaN</td>\n",
       "      <td>24</td>\n",
       "      <td>NaN</td>\n",
       "      <td>1</td>\n",
       "      <td>billing=24,cpu=24,mem=189600M,node=1</td>\n",
       "      <td>4</td>\n",
       "      <td>NaN</td>\n",
       "      <td>NaN</td>\n",
       "      <td>NaN</td>\n",
       "      <td>...</td>\n",
       "      <td>NaN</td>\n",
       "      <td>NaN</td>\n",
       "      <td>NaN</td>\n",
       "      <td>NaN</td>\n",
       "      <td>NaN</td>\n",
       "      <td>NaN</td>\n",
       "      <td>eed47b6a-a483-4194-85a6-8ae0f6ca5adb</td>\n",
       "      <td>00:00:00</td>\n",
       "      <td>NaN</td>\n",
       "      <td>0</td>\n",
       "    </tr>\n",
       "  </tbody>\n",
       "</table>\n",
       "<p>5 rows × 103 columns</p>\n",
       "</div>"
      ],
      "text/plain": [
       "                                Account  AdminComment  AllocCPUS  AllocGRES  \\\n",
       "0  94f78603-6e51-40ca-99c6-b494ac1ee324           NaN        768        NaN   \n",
       "1  94f78603-6e51-40ca-99c6-b494ac1ee324           NaN        384        NaN   \n",
       "2  94f78603-6e51-40ca-99c6-b494ac1ee324           NaN        384        NaN   \n",
       "3  94f78603-6e51-40ca-99c6-b494ac1ee324           NaN        192        NaN   \n",
       "4  ee18ced8-5c8f-4b12-a606-6b282105d967           NaN         24        NaN   \n",
       "\n",
       "   AllocNodes                                 AllocTRES  AssocID  AveCPU  \\\n",
       "0          32     billing=768,cpu=768,mem=5925G,node=32        0     NaN   \n",
       "1          16  billing=384,cpu=384,mem=2962.50G,node=16        0     NaN   \n",
       "2          16  billing=384,cpu=384,mem=2962.50G,node=16        0     NaN   \n",
       "3           8   billing=192,cpu=192,mem=1516800M,node=8        0     NaN   \n",
       "4           1      billing=24,cpu=24,mem=189600M,node=1        4     NaN   \n",
       "\n",
       "   AveCPUFreq  AveDiskRead  ...  TRESUsageOutMaxNode  TRESUsageOutMaxTask  \\\n",
       "0         NaN          NaN  ...                  NaN                  NaN   \n",
       "1         NaN          NaN  ...                  NaN                  NaN   \n",
       "2         NaN          NaN  ...                  NaN                  NaN   \n",
       "3         NaN          NaN  ...                  NaN                  NaN   \n",
       "4         NaN          NaN  ...                  NaN                  NaN   \n",
       "\n",
       "   TRESUsageOutMin  TRESUsageOutMinNode  TRESUsageOutMinTask TRESUsageOutTot  \\\n",
       "0              NaN                  NaN                  NaN             NaN   \n",
       "1              NaN                  NaN                  NaN             NaN   \n",
       "2              NaN                  NaN                  NaN             NaN   \n",
       "3              NaN                  NaN                  NaN             NaN   \n",
       "4              NaN                  NaN                  NaN             NaN   \n",
       "\n",
       "                                   User   UserCPU  WCKey  WCKeyID  \n",
       "0  1f847aac-d8bf-40ea-b747-405efe2ce745  00:00:00    NaN        0  \n",
       "1  1f847aac-d8bf-40ea-b747-405efe2ce745  00:00:00    NaN        0  \n",
       "2  1f847aac-d8bf-40ea-b747-405efe2ce745  00:00:00    NaN        0  \n",
       "3  1f847aac-d8bf-40ea-b747-405efe2ce745  00:00:00    NaN        0  \n",
       "4  eed47b6a-a483-4194-85a6-8ae0f6ca5adb  00:00:00    NaN        0  \n",
       "\n",
       "[5 rows x 103 columns]"
      ]
     },
     "execution_count": 81,
     "metadata": {},
     "output_type": "execute_result"
    }
   ],
   "source": [
    "shape_start = df_slurm.shape\n",
    "print('shape: ', df_slurm.shape)\n",
    "df_slurm.head()"
   ]
  },
  {
   "cell_type": "code",
   "execution_count": 82,
   "metadata": {},
   "outputs": [
    {
     "name": "stdout",
     "output_type": "stream",
     "text": [
      "<class 'pandas.core.frame.DataFrame'>\n",
      "Int64Index: 505261 entries, 0 to 505260\n",
      "Columns: 103 entries, Account to WCKeyID\n",
      "dtypes: float64(54), int64(14), object(35)\n",
      "memory usage: 400.9+ MB\n"
     ]
    }
   ],
   "source": [
    "df_slurm.info()"
   ]
  },
  {
   "attachments": {},
   "cell_type": "markdown",
   "metadata": {},
   "source": [
    "# 2. Datensatz bereinigen"
   ]
  },
  {
   "cell_type": "code",
   "execution_count": 83,
   "metadata": {},
   "outputs": [
    {
     "data": {
      "text/html": [
       "<div>\n",
       "<style scoped>\n",
       "    .dataframe tbody tr th:only-of-type {\n",
       "        vertical-align: middle;\n",
       "    }\n",
       "\n",
       "    .dataframe tbody tr th {\n",
       "        vertical-align: top;\n",
       "    }\n",
       "\n",
       "    .dataframe thead th {\n",
       "        text-align: right;\n",
       "    }\n",
       "</style>\n",
       "<table border=\"1\" class=\"dataframe\">\n",
       "  <thead>\n",
       "    <tr style=\"text-align: right;\">\n",
       "      <th></th>\n",
       "      <th>AdminComment</th>\n",
       "      <th>AllocCPUS</th>\n",
       "      <th>AllocGRES</th>\n",
       "      <th>AllocNodes</th>\n",
       "      <th>AssocID</th>\n",
       "      <th>AveCPU</th>\n",
       "      <th>AveCPUFreq</th>\n",
       "      <th>AveDiskRead</th>\n",
       "      <th>AveDiskWrite</th>\n",
       "      <th>AvePages</th>\n",
       "      <th>...</th>\n",
       "      <th>TRESUsageOutAve</th>\n",
       "      <th>TRESUsageOutMax</th>\n",
       "      <th>TRESUsageOutMaxNode</th>\n",
       "      <th>TRESUsageOutMaxTask</th>\n",
       "      <th>TRESUsageOutMin</th>\n",
       "      <th>TRESUsageOutMinNode</th>\n",
       "      <th>TRESUsageOutMinTask</th>\n",
       "      <th>TRESUsageOutTot</th>\n",
       "      <th>WCKey</th>\n",
       "      <th>WCKeyID</th>\n",
       "    </tr>\n",
       "  </thead>\n",
       "  <tbody>\n",
       "    <tr>\n",
       "      <th>count</th>\n",
       "      <td>0.0</td>\n",
       "      <td>505261.000000</td>\n",
       "      <td>0.0</td>\n",
       "      <td>505261.000000</td>\n",
       "      <td>505261.000000</td>\n",
       "      <td>0.0</td>\n",
       "      <td>0.0</td>\n",
       "      <td>0.0</td>\n",
       "      <td>0.0</td>\n",
       "      <td>0.0</td>\n",
       "      <td>...</td>\n",
       "      <td>0.0</td>\n",
       "      <td>0.0</td>\n",
       "      <td>0.0</td>\n",
       "      <td>0.0</td>\n",
       "      <td>0.0</td>\n",
       "      <td>0.0</td>\n",
       "      <td>0.0</td>\n",
       "      <td>0.0</td>\n",
       "      <td>0.0</td>\n",
       "      <td>505261.0</td>\n",
       "    </tr>\n",
       "    <tr>\n",
       "      <th>mean</th>\n",
       "      <td>NaN</td>\n",
       "      <td>18.761432</td>\n",
       "      <td>NaN</td>\n",
       "      <td>1.266688</td>\n",
       "      <td>87.951740</td>\n",
       "      <td>NaN</td>\n",
       "      <td>NaN</td>\n",
       "      <td>NaN</td>\n",
       "      <td>NaN</td>\n",
       "      <td>NaN</td>\n",
       "      <td>...</td>\n",
       "      <td>NaN</td>\n",
       "      <td>NaN</td>\n",
       "      <td>NaN</td>\n",
       "      <td>NaN</td>\n",
       "      <td>NaN</td>\n",
       "      <td>NaN</td>\n",
       "      <td>NaN</td>\n",
       "      <td>NaN</td>\n",
       "      <td>NaN</td>\n",
       "      <td>0.0</td>\n",
       "    </tr>\n",
       "    <tr>\n",
       "      <th>std</th>\n",
       "      <td>NaN</td>\n",
       "      <td>58.873879</td>\n",
       "      <td>NaN</td>\n",
       "      <td>2.241952</td>\n",
       "      <td>56.135689</td>\n",
       "      <td>NaN</td>\n",
       "      <td>NaN</td>\n",
       "      <td>NaN</td>\n",
       "      <td>NaN</td>\n",
       "      <td>NaN</td>\n",
       "      <td>...</td>\n",
       "      <td>NaN</td>\n",
       "      <td>NaN</td>\n",
       "      <td>NaN</td>\n",
       "      <td>NaN</td>\n",
       "      <td>NaN</td>\n",
       "      <td>NaN</td>\n",
       "      <td>NaN</td>\n",
       "      <td>NaN</td>\n",
       "      <td>NaN</td>\n",
       "      <td>0.0</td>\n",
       "    </tr>\n",
       "    <tr>\n",
       "      <th>min</th>\n",
       "      <td>NaN</td>\n",
       "      <td>0.000000</td>\n",
       "      <td>NaN</td>\n",
       "      <td>0.000000</td>\n",
       "      <td>0.000000</td>\n",
       "      <td>NaN</td>\n",
       "      <td>NaN</td>\n",
       "      <td>NaN</td>\n",
       "      <td>NaN</td>\n",
       "      <td>NaN</td>\n",
       "      <td>...</td>\n",
       "      <td>NaN</td>\n",
       "      <td>NaN</td>\n",
       "      <td>NaN</td>\n",
       "      <td>NaN</td>\n",
       "      <td>NaN</td>\n",
       "      <td>NaN</td>\n",
       "      <td>NaN</td>\n",
       "      <td>NaN</td>\n",
       "      <td>NaN</td>\n",
       "      <td>0.0</td>\n",
       "    </tr>\n",
       "    <tr>\n",
       "      <th>25%</th>\n",
       "      <td>NaN</td>\n",
       "      <td>1.000000</td>\n",
       "      <td>NaN</td>\n",
       "      <td>1.000000</td>\n",
       "      <td>59.000000</td>\n",
       "      <td>NaN</td>\n",
       "      <td>NaN</td>\n",
       "      <td>NaN</td>\n",
       "      <td>NaN</td>\n",
       "      <td>NaN</td>\n",
       "      <td>...</td>\n",
       "      <td>NaN</td>\n",
       "      <td>NaN</td>\n",
       "      <td>NaN</td>\n",
       "      <td>NaN</td>\n",
       "      <td>NaN</td>\n",
       "      <td>NaN</td>\n",
       "      <td>NaN</td>\n",
       "      <td>NaN</td>\n",
       "      <td>NaN</td>\n",
       "      <td>0.0</td>\n",
       "    </tr>\n",
       "    <tr>\n",
       "      <th>50%</th>\n",
       "      <td>NaN</td>\n",
       "      <td>3.000000</td>\n",
       "      <td>NaN</td>\n",
       "      <td>1.000000</td>\n",
       "      <td>59.000000</td>\n",
       "      <td>NaN</td>\n",
       "      <td>NaN</td>\n",
       "      <td>NaN</td>\n",
       "      <td>NaN</td>\n",
       "      <td>NaN</td>\n",
       "      <td>...</td>\n",
       "      <td>NaN</td>\n",
       "      <td>NaN</td>\n",
       "      <td>NaN</td>\n",
       "      <td>NaN</td>\n",
       "      <td>NaN</td>\n",
       "      <td>NaN</td>\n",
       "      <td>NaN</td>\n",
       "      <td>NaN</td>\n",
       "      <td>NaN</td>\n",
       "      <td>0.0</td>\n",
       "    </tr>\n",
       "    <tr>\n",
       "      <th>75%</th>\n",
       "      <td>NaN</td>\n",
       "      <td>24.000000</td>\n",
       "      <td>NaN</td>\n",
       "      <td>1.000000</td>\n",
       "      <td>132.000000</td>\n",
       "      <td>NaN</td>\n",
       "      <td>NaN</td>\n",
       "      <td>NaN</td>\n",
       "      <td>NaN</td>\n",
       "      <td>NaN</td>\n",
       "      <td>...</td>\n",
       "      <td>NaN</td>\n",
       "      <td>NaN</td>\n",
       "      <td>NaN</td>\n",
       "      <td>NaN</td>\n",
       "      <td>NaN</td>\n",
       "      <td>NaN</td>\n",
       "      <td>NaN</td>\n",
       "      <td>NaN</td>\n",
       "      <td>NaN</td>\n",
       "      <td>0.0</td>\n",
       "    </tr>\n",
       "    <tr>\n",
       "      <th>max</th>\n",
       "      <td>NaN</td>\n",
       "      <td>3072.000000</td>\n",
       "      <td>NaN</td>\n",
       "      <td>128.000000</td>\n",
       "      <td>244.000000</td>\n",
       "      <td>NaN</td>\n",
       "      <td>NaN</td>\n",
       "      <td>NaN</td>\n",
       "      <td>NaN</td>\n",
       "      <td>NaN</td>\n",
       "      <td>...</td>\n",
       "      <td>NaN</td>\n",
       "      <td>NaN</td>\n",
       "      <td>NaN</td>\n",
       "      <td>NaN</td>\n",
       "      <td>NaN</td>\n",
       "      <td>NaN</td>\n",
       "      <td>NaN</td>\n",
       "      <td>NaN</td>\n",
       "      <td>NaN</td>\n",
       "      <td>0.0</td>\n",
       "    </tr>\n",
       "  </tbody>\n",
       "</table>\n",
       "<p>8 rows × 68 columns</p>\n",
       "</div>"
      ],
      "text/plain": [
       "       AdminComment      AllocCPUS  AllocGRES     AllocNodes        AssocID  \\\n",
       "count           0.0  505261.000000        0.0  505261.000000  505261.000000   \n",
       "mean            NaN      18.761432        NaN       1.266688      87.951740   \n",
       "std             NaN      58.873879        NaN       2.241952      56.135689   \n",
       "min             NaN       0.000000        NaN       0.000000       0.000000   \n",
       "25%             NaN       1.000000        NaN       1.000000      59.000000   \n",
       "50%             NaN       3.000000        NaN       1.000000      59.000000   \n",
       "75%             NaN      24.000000        NaN       1.000000     132.000000   \n",
       "max             NaN    3072.000000        NaN     128.000000     244.000000   \n",
       "\n",
       "       AveCPU  AveCPUFreq  AveDiskRead  AveDiskWrite  AvePages  ...  \\\n",
       "count     0.0         0.0          0.0           0.0       0.0  ...   \n",
       "mean      NaN         NaN          NaN           NaN       NaN  ...   \n",
       "std       NaN         NaN          NaN           NaN       NaN  ...   \n",
       "min       NaN         NaN          NaN           NaN       NaN  ...   \n",
       "25%       NaN         NaN          NaN           NaN       NaN  ...   \n",
       "50%       NaN         NaN          NaN           NaN       NaN  ...   \n",
       "75%       NaN         NaN          NaN           NaN       NaN  ...   \n",
       "max       NaN         NaN          NaN           NaN       NaN  ...   \n",
       "\n",
       "       TRESUsageOutAve  TRESUsageOutMax  TRESUsageOutMaxNode  \\\n",
       "count              0.0              0.0                  0.0   \n",
       "mean               NaN              NaN                  NaN   \n",
       "std                NaN              NaN                  NaN   \n",
       "min                NaN              NaN                  NaN   \n",
       "25%                NaN              NaN                  NaN   \n",
       "50%                NaN              NaN                  NaN   \n",
       "75%                NaN              NaN                  NaN   \n",
       "max                NaN              NaN                  NaN   \n",
       "\n",
       "       TRESUsageOutMaxTask  TRESUsageOutMin  TRESUsageOutMinNode  \\\n",
       "count                  0.0              0.0                  0.0   \n",
       "mean                   NaN              NaN                  NaN   \n",
       "std                    NaN              NaN                  NaN   \n",
       "min                    NaN              NaN                  NaN   \n",
       "25%                    NaN              NaN                  NaN   \n",
       "50%                    NaN              NaN                  NaN   \n",
       "75%                    NaN              NaN                  NaN   \n",
       "max                    NaN              NaN                  NaN   \n",
       "\n",
       "       TRESUsageOutMinTask  TRESUsageOutTot  WCKey   WCKeyID  \n",
       "count                  0.0              0.0    0.0  505261.0  \n",
       "mean                   NaN              NaN    NaN       0.0  \n",
       "std                    NaN              NaN    NaN       0.0  \n",
       "min                    NaN              NaN    NaN       0.0  \n",
       "25%                    NaN              NaN    NaN       0.0  \n",
       "50%                    NaN              NaN    NaN       0.0  \n",
       "75%                    NaN              NaN    NaN       0.0  \n",
       "max                    NaN              NaN    NaN       0.0  \n",
       "\n",
       "[8 rows x 68 columns]"
      ]
     },
     "execution_count": 83,
     "metadata": {},
     "output_type": "execute_result"
    }
   ],
   "source": [
    "df_slurm.describe()"
   ]
  },
  {
   "attachments": {},
   "cell_type": "markdown",
   "metadata": {},
   "source": [
    "### 2.1 grobe Bereinigung"
   ]
  },
  {
   "attachments": {},
   "cell_type": "markdown",
   "metadata": {},
   "source": [
    "Im Folgenden werden:\n",
    "* 54 Spalten entfernt, die mehr als 95% fehlende Daten enthalten,\n",
    "* 3 Spalten enfernt, die ausschließlich 0-Werte enthalten,\n",
    "* 9 Spalten entfernt, die nur einen \"unique-value\" enthalten,\n",
    "* 3 Spalten entfernt, die nur identifier enthalten, da diese für das Clustering nicht notwendig sind,\n",
    "* und weitere Spalten entfernt, die mehrfach vorkommen oder die gleiche Informationen in lediglich anderen Formaten enthalten."
   ]
  },
  {
   "cell_type": "code",
   "execution_count": 84,
   "metadata": {},
   "outputs": [],
   "source": [
    "cols_missing = [col for col in df_slurm.columns if df_slurm[col].isna().sum() / len(df_slurm.index) >= 0.95] \n",
    "cols_zero = ['ConsumedEnergy', 'ConsumedEnergyRaw', 'WCKeyID']\n",
    "cols_unique_values_only = [col for col in df_slurm.columns if len(df_slurm[col].unique()) == 1 and col not in cols_zero and col not in cols_missing]\n",
    "identifier_cols = ['AssocID', 'JobID', 'JobIDRaw']"
   ]
  },
  {
   "cell_type": "code",
   "execution_count": 85,
   "metadata": {},
   "outputs": [],
   "source": [
    "df_slurm.drop(labels=cols_missing, axis=1, inplace=True)\n",
    "df_slurm.drop(labels=cols_zero, axis=1, inplace=True)\n",
    "df_slurm.drop(labels=cols_unique_values_only, axis=1, inplace=True)\n",
    "df_slurm.drop(labels=identifier_cols, axis=1, inplace=True) "
   ]
  },
  {
   "cell_type": "code",
   "execution_count": 86,
   "metadata": {},
   "outputs": [
    {
     "data": {
      "text/plain": [
       "Index(['Account', 'AllocCPUS', 'AllocNodes', 'AllocTRES', 'CPUTime',\n",
       "       'CPUTimeRAW', 'DerivedExitCode', 'Elapsed', 'ElapsedRaw', 'Eligible',\n",
       "       'End', 'ExitCode', 'Flags', 'NCPUS', 'NNodes', 'NodeList', 'Priority',\n",
       "       'Partition', 'QOS', 'QOSRAW', 'Reason', 'ReqCPUS', 'ReqMem', 'ReqNodes',\n",
       "       'ReqTRES', 'Reserved', 'ResvCPU', 'ResvCPURAW', 'Start', 'State',\n",
       "       'Submit', 'Timelimit', 'TimelimitRaw', 'User'],\n",
       "      dtype='object')"
      ]
     },
     "execution_count": 86,
     "metadata": {},
     "output_type": "execute_result"
    }
   ],
   "source": [
    "df_slurm.columns"
   ]
  },
  {
   "attachments": {},
   "cell_type": "markdown",
   "metadata": {},
   "source": [
    "### 2.2 Feinere Betrachtung"
   ]
  },
  {
   "attachments": {},
   "cell_type": "markdown",
   "metadata": {},
   "source": [
    "Nun werden die verbleibenden Spalten betrachtet, da diese teilweise redundante oder linear abhängige Informationen oder zu viele kleine Kategorien enthalten."
   ]
  },
  {
   "attachments": {},
   "cell_type": "markdown",
   "metadata": {},
   "source": [
    "Zum um einen kann die Spalte 'End' aus der Startzeit und Dauer berechnet werden."
   ]
  },
  {
   "cell_type": "code",
   "execution_count": 87,
   "metadata": {},
   "outputs": [],
   "source": [
    "df_slurm.drop(labels=['End'], axis=1, inplace=True)"
   ]
  },
  {
   "attachments": {},
   "cell_type": "markdown",
   "metadata": {},
   "source": [
    "Die Spalte 'CPUTimeRaw' entspricht der Anzahl der CPUs multipliziert mit der Dauer. Sie stellt also eine Lineare Kombination dar und kann entfernt werden. 'CPUTime' entspricht 'CPUTimeRaw' als timedelta und kann ebenfalls entfernt werden."
   ]
  },
  {
   "cell_type": "code",
   "execution_count": 88,
   "metadata": {},
   "outputs": [],
   "source": [
    "df_slurm.drop(labels=['CPUTime', 'CPUTimeRAW'], axis=1, inplace=True)"
   ]
  },
  {
   "attachments": {},
   "cell_type": "markdown",
   "metadata": {},
   "source": [
    "Zeitdaten werden allgemein einmal als Integerwert und als timedelta angegeben. Die Integerwerte sind hier ausreichend."
   ]
  },
  {
   "cell_type": "code",
   "execution_count": 89,
   "metadata": {},
   "outputs": [],
   "source": [
    "df_slurm.drop(labels=['Elapsed', 'Timelimit', 'ResvCPU'], axis=1, inplace=True)"
   ]
  },
  {
   "attachments": {},
   "cell_type": "markdown",
   "metadata": {},
   "source": [
    "Die 'QoS'-Informationen werden ebenfalls doppelt gespeichert. Aus Dimensionsgründen wird die Spalte 'QOS' entfernt und 'QOSRAW' behalten."
   ]
  },
  {
   "cell_type": "code",
   "execution_count": 90,
   "metadata": {},
   "outputs": [],
   "source": [
    "df_slurm.drop(labels=['QOS'], axis=1, inplace=True)"
   ]
  },
  {
   "attachments": {},
   "cell_type": "markdown",
   "metadata": {},
   "source": [
    "Die Spalten 'Submit' und 'Eligible' enthalten zu 98% gleiche Informationen.\n",
    "Sowohl 'AllocNodes' und 'NNodes', als auch 'NCPUS' und 'AllocCPUS' sind exakt gleich. 'Eligible', 'NCPUS' und 'NNodes' werden deshalb entfernt."
   ]
  },
  {
   "cell_type": "code",
   "execution_count": 91,
   "metadata": {},
   "outputs": [
    {
     "name": "stdout",
     "output_type": "stream",
     "text": [
      "0.9783631752296226\n",
      "1.0\n",
      "1.0\n"
     ]
    }
   ],
   "source": [
    "print(sum(df_slurm.dropna(axis=0).Submit == df_slurm.dropna(axis=0).Eligible) / len(df_slurm.dropna(axis=0).index))\n",
    "print(sum(df_slurm.dropna(axis=0).AllocNodes == df_slurm.dropna(axis=0).NNodes) / len(df_slurm.dropna(axis=0).index))\n",
    "print(sum(df_slurm.AllocCPUS == df_slurm.NCPUS) / len(df_slurm.index))\n",
    "\n",
    "df_slurm.drop(labels=['Eligible', 'NNodes', 'NCPUS'], axis=1, inplace=True)"
   ]
  },
  {
   "attachments": {},
   "cell_type": "markdown",
   "metadata": {},
   "source": [
    "In der Spalte 'ReqTRES' sind mehrere Informationen enthalten. Davon ist lediglich 'Billing' nicht in anderen Spalten vorhanden, also werden die anderen Informationen verworfen."
   ]
  },
  {
   "cell_type": "code",
   "execution_count": 92,
   "metadata": {},
   "outputs": [],
   "source": [
    "df_slurm['ReqBilling'] = df_slurm['ReqTRES'].str.split(',').str[0].str.split('=').str[1].astype(float)\n",
    "df_slurm.drop(columns=['ReqTRES'], inplace=True)"
   ]
  },
  {
   "attachments": {},
   "cell_type": "markdown",
   "metadata": {},
   "source": [
    "Das gleiche gilt für 'AllocTRES', aber in diesem Fall sind billing und memory relevant."
   ]
  },
  {
   "cell_type": "code",
   "execution_count": 93,
   "metadata": {},
   "outputs": [],
   "source": [
    "df_slurm['AllocBilling'] = df_slurm['AllocTRES'].str.split(',').str[3].str.split('=').str[1].astype(float)\n",
    "df_slurm['AllocMem'] = df_slurm['AllocTRES'].str.split(',').str[2].str.split('=').str[1]\n",
    "df_slurm.drop(columns=['AllocTRES'], inplace=True)"
   ]
  },
  {
   "attachments": {},
   "cell_type": "markdown",
   "metadata": {},
   "source": [
    "In der Spalte 'NodeList' werden die verwendeten Knoten gespeichert. Hier gibt es sehr viele Möglichkeiten, was die Komplexität des Modells stark erhöhen würde. Zusätzlich kann mit diesen Werten kein Rückschluss auf die Benutzer hergestellt werden. Deshalb wird auch diese entfernt."
   ]
  },
  {
   "cell_type": "code",
   "execution_count": 94,
   "metadata": {},
   "outputs": [],
   "source": [
    "df_slurm.drop(labels=['NodeList'], axis=1, inplace=True)"
   ]
  },
  {
   "attachments": {},
   "cell_type": "markdown",
   "metadata": {},
   "source": [
    "In den Spalten 'ExitCode', 'DerivedExitCode', 'Reason' und 'State' wird der Grund der Terminierung des Jobs festgehalten. 'ExitCode' und 'DerivedExitCode' überschneiden sich zu einem großen Teil. Da 'ExitCode' nur 32 einzigartige Werte hat im Gegensatz zu 53, wird 'DerivedExitCode' entfernt. 'State' und 'Reason' enthalten nominale Werte mit sehr vielen Möglichkeiten, was die Komplexität unnötig erhöhen würde. "
   ]
  },
  {
   "cell_type": "code",
   "execution_count": 95,
   "metadata": {},
   "outputs": [
    {
     "data": {
      "text/plain": [
       "COMPLETED            446442\n",
       "CANCELLED by 1111     13583\n",
       "TIMEOUT               11225\n",
       "FAILED                 5914\n",
       "CANCELLED by 1175      5540\n",
       "                      ...  \n",
       "CANCELLED by 1144         1\n",
       "CANCELLED by 1213         1\n",
       "CANCELLED by 1215         1\n",
       "NODE_FAIL                 1\n",
       "CANCELLED by 1155         1\n",
       "Name: State, Length: 85, dtype: int64"
      ]
     },
     "execution_count": 95,
     "metadata": {},
     "output_type": "execute_result"
    }
   ],
   "source": [
    "df_slurm.State.value_counts()"
   ]
  },
  {
   "cell_type": "code",
   "execution_count": 96,
   "metadata": {},
   "outputs": [],
   "source": [
    "df_slurm.drop(columns=['State', 'DerivedExitCode', 'Reason'], inplace=True)"
   ]
  },
  {
   "attachments": {},
   "cell_type": "markdown",
   "metadata": {},
   "source": [
    "Jetzt da alle Spalten, die ausschließlich 'NA's enthalten, entfernt sind, können die Zeilen, die 'NA's enthalten noch entfernt werden."
   ]
  },
  {
   "cell_type": "code",
   "execution_count": 97,
   "metadata": {},
   "outputs": [
    {
     "name": "stdout",
     "output_type": "stream",
     "text": [
      "Shape vorher:  (488519, 21)\n",
      "Shape nachher:  (488519, 21)\n"
     ]
    }
   ],
   "source": [
    "df_slurm.dropna(axis=0, inplace=True)\n",
    "print('Shape vorher: ',df_slurm.shape)\n",
    "print('Shape nachher: ',df_slurm.shape )\n"
   ]
  },
  {
   "attachments": {},
   "cell_type": "markdown",
   "metadata": {},
   "source": [
    "Vergleich Shape des unbereinigten und bereinigten Datensatzes:"
   ]
  },
  {
   "cell_type": "code",
   "execution_count": 98,
   "metadata": {},
   "outputs": [
    {
     "name": "stdout",
     "output_type": "stream",
     "text": [
      "Shape vorher: (505261, 103) - shape nachher: (488519, 21)\n",
      "Es wurden 16742 Zeilen und 82 Spalten entfernt.\n",
      "Es gibt noch 0 \"NA\"s im Datensatz.\n"
     ]
    }
   ],
   "source": [
    "print(f'Shape vorher: {shape_start} - shape nachher: {df_slurm.shape}')\n",
    "print(f'Es wurden {shape_start[0] - df_slurm.shape[0]} Zeilen und {shape_start[1] - df_slurm.shape[1]} Spalten entfernt.')\n",
    "print(f'Es gibt noch {df_slurm.isna().sum().sum()} \"NA\"s im Datensatz.')"
   ]
  },
  {
   "attachments": {},
   "cell_type": "markdown",
   "metadata": {},
   "source": [
    "# 3. Datenformate korrigieren"
   ]
  },
  {
   "cell_type": "code",
   "execution_count": 99,
   "metadata": {},
   "outputs": [
    {
     "name": "stdout",
     "output_type": "stream",
     "text": [
      "<class 'pandas.core.frame.DataFrame'>\n",
      "Int64Index: 488519 entries, 0 to 505260\n",
      "Data columns (total 21 columns):\n",
      " #   Column        Non-Null Count   Dtype  \n",
      "---  ------        --------------   -----  \n",
      " 0   Account       488519 non-null  object \n",
      " 1   AllocCPUS     488519 non-null  int64  \n",
      " 2   AllocNodes    488519 non-null  int64  \n",
      " 3   ElapsedRaw    488519 non-null  int64  \n",
      " 4   ExitCode      488519 non-null  object \n",
      " 5   Flags         488519 non-null  object \n",
      " 6   Priority      488519 non-null  int64  \n",
      " 7   Partition     488519 non-null  object \n",
      " 8   QOSRAW        488519 non-null  int64  \n",
      " 9   ReqCPUS       488519 non-null  int64  \n",
      " 10  ReqMem        488519 non-null  object \n",
      " 11  ReqNodes      488519 non-null  int64  \n",
      " 12  Reserved      488519 non-null  object \n",
      " 13  ResvCPURAW    488519 non-null  int64  \n",
      " 14  Start         488519 non-null  object \n",
      " 15  Submit        488519 non-null  object \n",
      " 16  TimelimitRaw  488519 non-null  object \n",
      " 17  User          488519 non-null  object \n",
      " 18  ReqBilling    488519 non-null  float64\n",
      " 19  AllocBilling  488519 non-null  float64\n",
      " 20  AllocMem      488519 non-null  object \n",
      "dtypes: float64(2), int64(8), object(11)\n",
      "memory usage: 82.0+ MB\n"
     ]
    }
   ],
   "source": [
    "df_slurm.info()"
   ]
  },
  {
   "attachments": {},
   "cell_type": "markdown",
   "metadata": {},
   "source": [
    "Im nächsten Schritt werden die Datenformate betrachtet und selten auftretende Werte als 'other' zusammengefasst. Das gilt allerdings nur für kategorische Variablen."
   ]
  },
  {
   "attachments": {},
   "cell_type": "markdown",
   "metadata": {},
   "source": [
    "### 3.1 Account"
   ]
  },
  {
   "cell_type": "code",
   "execution_count": 100,
   "metadata": {},
   "outputs": [
    {
     "data": {
      "text/plain": [
       "da444cc4-1f27-488a-a217-39369ef6d985    233528\n",
       "ee18ced8-5c8f-4b12-a606-6b282105d967    112681\n",
       "5da85e7b-a3c6-4950-9a0b-9201a66f0fa8     54503\n",
       "55834e52-7e74-4ef2-a69a-52999d4d4489     21672\n",
       "ec66f3fb-e5a8-4d92-9f4e-71b5c8438716     21093\n",
       "94f78603-6e51-40ca-99c6-b494ac1ee324     11082\n",
       "e5d422dc-ae36-43eb-a137-32e9aee9db76     10682\n",
       "13b1754f-6801-4291-a9f3-af236bac8808      5731\n",
       "0bf7cfe6-6a03-41e5-a78d-49912967f03e      3992\n",
       "c7bdc3dc-8ba6-42d7-9088-82192a0b7295      3976\n",
       "c593c653-aa6f-4504-a97c-21624fc6fc32      3837\n",
       "865c206e-f4a7-43ec-850a-6b9aa7605188      1706\n",
       "48fb10dc-8bee-4cd2-84ab-82a9f148ce51      1642\n",
       "db00c3ac-ad93-433c-a6f0-2191d7d13834       556\n",
       "0a8d45d6-65d0-42b2-af45-6dcfa6386ca3       350\n",
       "37e4ceb9-2778-4460-a361-46dd59d40832       298\n",
       "a482ea3b-6cda-4bff-97e9-22ff3e27eef8       226\n",
       "d528b01e-4de2-4bf0-8ad3-825bd5597843       156\n",
       "57d16732-fdf5-4749-972f-5ed7d6855856       149\n",
       "988d2312-36c5-4ef1-b35f-997ae67831f7       137\n",
       "7acfcf2f-132a-4196-8e98-2660dcf1cd28       118\n",
       "b653089b-d43f-4f8b-9533-e7ed9b094161        91\n",
       "4320ef68-212f-43af-9c0f-449cc57efcc6        72\n",
       "17113157-ffa1-4bfc-8355-11a3b7247fdf        72\n",
       "dad267da-dd7d-49b4-ab56-a1a2506a4b1b        68\n",
       "c314b415-48fb-43b8-965c-205ae24baef4        56\n",
       "c38a9ce5-7bb3-4e2f-8ee5-aa2415424a16        39\n",
       "884d09dc-8095-4e71-b235-9d075c66afe2         6\n",
       "Name: Account, dtype: int64"
      ]
     },
     "execution_count": 100,
     "metadata": {},
     "output_type": "execute_result"
    }
   ],
   "source": [
    "df_slurm.Account.value_counts()"
   ]
  },
  {
   "attachments": {},
   "cell_type": "markdown",
   "metadata": {},
   "source": [
    "### 3.2 Exit Code"
   ]
  },
  {
   "cell_type": "code",
   "execution_count": 101,
   "metadata": {},
   "outputs": [
    {
     "data": {
      "text/plain": [
       "(0:0      482960\n",
       " 1:0        4064\n",
       " 127:0       631\n",
       " 2:0         267\n",
       " 9:0         131\n",
       " 11:0         74\n",
       " 41:0         63\n",
       " 124:0        63\n",
       " 6:0          53\n",
       " 126:0        39\n",
       " 122:0        33\n",
       " 112:0        25\n",
       " 46:0         24\n",
       " 0:9          19\n",
       " 13:0         16\n",
       " 24:0         11\n",
       " 105:0         8\n",
       " 115:0         7\n",
       " 0:15          5\n",
       " 5:0           5\n",
       " 3:0           4\n",
       " 10:0          3\n",
       " 45:0          2\n",
       " 96:0          2\n",
       " 59:0          2\n",
       " 4:0           2\n",
       " 101:0         1\n",
       " 32:0          1\n",
       " 70:0          1\n",
       " 87:0          1\n",
       " 29:0          1\n",
       " 7:0           1\n",
       " Name: ExitCode, dtype: int64,\n",
       " 0)"
      ]
     },
     "execution_count": 101,
     "metadata": {},
     "output_type": "execute_result"
    }
   ],
   "source": [
    "df_slurm.ExitCode.value_counts(), df_slurm.ExitCode.isna().sum()"
   ]
  },
  {
   "attachments": {},
   "cell_type": "markdown",
   "metadata": {},
   "source": [
    "Es werden alle Exit Codes zusammengefasst, die weniger als 100 mal auftreten, also weniger als 0,02% des Datensatzes ausmachen."
   ]
  },
  {
   "cell_type": "code",
   "execution_count": 102,
   "metadata": {},
   "outputs": [],
   "source": [
    "exit_other = df_slurm['ExitCode'].value_counts()[df_slurm['ExitCode'].value_counts() < 100].index.to_list()\n",
    "df_slurm['ExitCode'] = df_slurm.ExitCode.apply(lambda x: 'other' if x in exit_other else x)"
   ]
  },
  {
   "cell_type": "code",
   "execution_count": 103,
   "metadata": {},
   "outputs": [
    {
     "data": {
      "text/plain": [
       "0:0      482960\n",
       "1:0        4064\n",
       "127:0       631\n",
       "other       466\n",
       "2:0         267\n",
       "9:0         131\n",
       "Name: ExitCode, dtype: int64"
      ]
     },
     "execution_count": 103,
     "metadata": {},
     "output_type": "execute_result"
    }
   ],
   "source": [
    "df_slurm.ExitCode.value_counts()"
   ]
  },
  {
   "attachments": {},
   "cell_type": "markdown",
   "metadata": {},
   "source": [
    "### 3.3 Flags"
   ]
  },
  {
   "cell_type": "code",
   "execution_count": 104,
   "metadata": {},
   "outputs": [
    {
     "data": {
      "text/plain": [
       "(SchedMain        438426\n",
       " SchedBackfill     49860\n",
       " SchedSubmit         233\n",
       " Name: Flags, dtype: int64,\n",
       " 0)"
      ]
     },
     "execution_count": 104,
     "metadata": {},
     "output_type": "execute_result"
    }
   ],
   "source": [
    "df_slurm.Flags.value_counts(), df_slurm.Flags.isna().sum()"
   ]
  },
  {
   "cell_type": "code",
   "execution_count": 105,
   "metadata": {},
   "outputs": [],
   "source": [
    "df_slurm.Flags.replace(np.nan, 'NoFlag', inplace=True)"
   ]
  },
  {
   "cell_type": "code",
   "execution_count": 106,
   "metadata": {},
   "outputs": [
    {
     "data": {
      "text/plain": [
       "SchedMain        438426\n",
       "SchedBackfill     49860\n",
       "SchedSubmit         233\n",
       "Name: Flags, dtype: int64"
      ]
     },
     "execution_count": 106,
     "metadata": {},
     "output_type": "execute_result"
    }
   ],
   "source": [
    "df_slurm.Flags.value_counts()"
   ]
  },
  {
   "attachments": {},
   "cell_type": "markdown",
   "metadata": {},
   "source": [
    "### 3.4 Partition"
   ]
  },
  {
   "cell_type": "code",
   "execution_count": 107,
   "metadata": {},
   "outputs": [
    {
     "data": {
      "text/plain": [
       "(serial     296563\n",
       " short       91367\n",
       " regular     77001\n",
       " debug       12500\n",
       " single       6178\n",
       " bigmem       3758\n",
       " long         1152\n",
       " Name: Partition, dtype: int64,\n",
       " 0)"
      ]
     },
     "execution_count": 107,
     "metadata": {},
     "output_type": "execute_result"
    }
   ],
   "source": [
    "df_slurm.Partition.value_counts(), df_slurm.Partition.isna().sum()"
   ]
  },
  {
   "attachments": {},
   "cell_type": "markdown",
   "metadata": {},
   "source": [
    "### 3.5 ReqMem"
   ]
  },
  {
   "cell_type": "code",
   "execution_count": 108,
   "metadata": {},
   "outputs": [],
   "source": [
    "def convert_to_mb(x):\n",
    "    if x != 'nan':\n",
    "        x = x.replace('c', '')\n",
    "        x = x.replace('n', '')\n",
    "    if 'M' in x:\n",
    "        x = x.replace('M', '')\n",
    "        return pd.to_numeric(x)\n",
    "    elif 'G' in x:\n",
    "        x = x.replace('G', '')\n",
    "        return pd.to_numeric(x) * 1024\n",
    "    else:\n",
    "        return x"
   ]
  },
  {
   "cell_type": "code",
   "execution_count": 109,
   "metadata": {},
   "outputs": [
    {
     "data": {
      "text/plain": [
       "(6000Mc    207355\n",
       " 7900Mc    185434\n",
       " 7000Mc     19641\n",
       " 2500Mc     18618\n",
       " 500Mc      13594\n",
       "            ...  \n",
       " 600Gn          1\n",
       " 5333Mc         1\n",
       " 7810Mc         1\n",
       " 600Mc          1\n",
       " 1950Mc         1\n",
       " Name: ReqMem, Length: 128, dtype: int64,\n",
       " 0)"
      ]
     },
     "execution_count": 109,
     "metadata": {},
     "output_type": "execute_result"
    }
   ],
   "source": [
    "df_slurm.ReqMem.value_counts(), df_slurm.ReqMem.isna().sum()"
   ]
  },
  {
   "cell_type": "code",
   "execution_count": 110,
   "metadata": {},
   "outputs": [],
   "source": [
    "df_slurm['ReqMem_in_MB'] = df_slurm.ReqMem.apply(convert_to_mb).astype(float)\n",
    "df_slurm.drop(labels=['ReqMem'], axis=1, inplace=True)"
   ]
  },
  {
   "attachments": {},
   "cell_type": "markdown",
   "metadata": {},
   "source": [
    "### 3.6 Reserved"
   ]
  },
  {
   "cell_type": "code",
   "execution_count": 111,
   "metadata": {},
   "outputs": [],
   "source": [
    "df_slurm['Reserved_in_s'] = pd.to_timedelta(df_slurm.Reserved).dt.total_seconds().astype(int)\n",
    "df_slurm.drop(labels=['Reserved'], axis=1, inplace=True)"
   ]
  },
  {
   "attachments": {},
   "cell_type": "markdown",
   "metadata": {},
   "source": [
    "### 3.7 Start"
   ]
  },
  {
   "attachments": {},
   "cell_type": "markdown",
   "metadata": {},
   "source": [
    "Konvertierung zu Datetime Objekt"
   ]
  },
  {
   "cell_type": "code",
   "execution_count": 112,
   "metadata": {},
   "outputs": [],
   "source": [
    "df_slurm.Start = pd.to_datetime(df_slurm.Start, yearfirst=True)"
   ]
  },
  {
   "cell_type": "code",
   "execution_count": 113,
   "metadata": {},
   "outputs": [
    {
     "data": {
      "text/plain": [
       "0        2020-01-31 16:01:26\n",
       "1        2020-01-31 16:02:42\n",
       "2        2020-01-31 16:05:04\n",
       "3        2020-01-31 16:05:50\n",
       "4        2020-01-31 16:28:49\n",
       "                 ...        \n",
       "505256   2022-03-31 19:50:07\n",
       "505257   2022-03-31 19:51:08\n",
       "505258   2022-03-31 20:08:45\n",
       "505259   2022-03-31 19:50:21\n",
       "505260   2022-03-31 19:51:31\n",
       "Name: Start, Length: 488519, dtype: datetime64[ns]"
      ]
     },
     "execution_count": 113,
     "metadata": {},
     "output_type": "execute_result"
    }
   ],
   "source": [
    "df_slurm.Start"
   ]
  },
  {
   "attachments": {},
   "cell_type": "markdown",
   "metadata": {},
   "source": [
    "Start wird vorerst als Datetime Objekt behalten, da dies eventuell für die data exploration interesant werden könnte."
   ]
  },
  {
   "attachments": {},
   "cell_type": "markdown",
   "metadata": {},
   "source": [
    "### 3.8 Submit"
   ]
  },
  {
   "attachments": {},
   "cell_type": "markdown",
   "metadata": {},
   "source": [
    "Vielleicht eine Art 'Timed' Spalte oder direkt ausgeführt? Werden Submit und Start benötigt oder kann eine Weg?"
   ]
  },
  {
   "cell_type": "code",
   "execution_count": 114,
   "metadata": {},
   "outputs": [],
   "source": [
    "df_slurm.Submit = pd.to_datetime(df_slurm.Submit)"
   ]
  },
  {
   "cell_type": "code",
   "execution_count": 115,
   "metadata": {},
   "outputs": [
    {
     "data": {
      "text/plain": [
       "0.7009635244483838"
      ]
     },
     "execution_count": 115,
     "metadata": {},
     "output_type": "execute_result"
    }
   ],
   "source": [
    "(abs((df_slurm.Submit - df_slurm.Start).dt.total_seconds()) < 60).sum() / len(df_slurm.index)"
   ]
  },
  {
   "attachments": {},
   "cell_type": "markdown",
   "metadata": {},
   "source": [
    "68 % der Jobs werden innerhalb von einer Minute nach dem Submit gestartet. Also 32 % für die Zukunft geplante?? Muss näher betrachtet werden."
   ]
  },
  {
   "cell_type": "code",
   "execution_count": 116,
   "metadata": {},
   "outputs": [],
   "source": [
    "df_slurm.drop(labels=['Submit'], axis=1, inplace=True)"
   ]
  },
  {
   "attachments": {},
   "cell_type": "markdown",
   "metadata": {},
   "source": [
    "### 3.9 TimeLimitRaw"
   ]
  },
  {
   "cell_type": "code",
   "execution_count": 117,
   "metadata": {},
   "outputs": [
    {
     "data": {
      "text/plain": [
       "array([7200, 1440, 10, 1, 60, 1200, 1260, 960, 2880, 1500, 600, 1080,\n",
       "       3600, 4020, 25920, 480, 4320, 660, 59, 5760, 2940, 7140, 720, 120,\n",
       "       1380, 180, 1140, 21600, '1440', '60', '1380', '7200', '5760',\n",
       "       '360', '120', '2880', '7140', '4320', '25920', '10', '600', '1500',\n",
       "       '240', 240, 7260, 14400, 300, 5, '1', '21600', '30', '180', '1680',\n",
       "       '480', '43200', '720', '5940', '300', '10080', '1200', '330',\n",
       "       '510', '960', '840', '1320', '40', '11520', '540', 30, 540, 11520,\n",
       "       1470, 360, 11521, 2910, 1740, 5770, 2160, 20160, 270, 43200, 2,\n",
       "       28800, 86400, 14401, 1320, 86401, 20, 8641, 8640, 5880, 5400, 1805,\n",
       "       1800, 29, 6000, 12, 630, 1680, 3000, 370, 1220, 2420, 610, 730,\n",
       "       689, 1920, 1980, 4, 10080, 4800, 1230, 57600, 15, 1450, 420, 150,\n",
       "       40, 144000, 390, 450, 3060, 2400, 840, 4200, 690, 25, 210, 5700,\n",
       "       17280, 45, 36000, 719, 900, 35, 1442, 722, 70, 72000, 710, 90,\n",
       "       5040, 3, 75, 1050, 9, 6720, 7080, 50, 7199, 715, 60000, 129600,\n",
       "       170, 470, 4500, 140, 200, 260, 320, 560, 22800, 3780, 620, 680, 80,\n",
       "       1259, 2875, 1435, 10140, 1440000], dtype=object)"
      ]
     },
     "execution_count": 117,
     "metadata": {},
     "output_type": "execute_result"
    }
   ],
   "source": [
    "df_slurm.TimelimitRaw.unique()"
   ]
  },
  {
   "attachments": {},
   "cell_type": "markdown",
   "metadata": {},
   "source": [
    "Wie wird am besten mit dem Wert 'PartitionLimit' umgegangen? Erstmal zu nan umwandeln und die Spalte 'TimeLimitRaw' zu Float umwandeln. "
   ]
  },
  {
   "cell_type": "code",
   "execution_count": 118,
   "metadata": {},
   "outputs": [
    {
     "name": "stdout",
     "output_type": "stream",
     "text": [
      "0\n"
     ]
    }
   ],
   "source": [
    "df_slurm.TimelimitRaw = df_slurm.TimelimitRaw.replace('Partition_Limit', 'nan')\n",
    "df_slurm.TimelimitRaw = df_slurm.TimelimitRaw.astype(float)\n",
    "print(df_slurm.TimelimitRaw.isna().sum())"
   ]
  },
  {
   "attachments": {},
   "cell_type": "markdown",
   "metadata": {},
   "source": [
    "Eventuell Zeilen mit Partition Limit herausnehmen oder Füllwert einsetzen, damit die Spalte als Int gespeichert werden kann."
   ]
  },
  {
   "attachments": {},
   "cell_type": "markdown",
   "metadata": {},
   "source": [
    "### 3.10 User"
   ]
  },
  {
   "attachments": {},
   "cell_type": "markdown",
   "metadata": {},
   "source": [
    "Spalte User eventuell rausnehmen?"
   ]
  },
  {
   "cell_type": "code",
   "execution_count": 119,
   "metadata": {},
   "outputs": [
    {
     "data": {
      "text/plain": [
       "e463390c-2235-4967-8102-d0e3b725cf0f    210905\n",
       "c4932d86-e047-4b70-879b-72915e1947de     75398\n",
       "1f847aac-d8bf-40ea-b747-405efe2ce745     57303\n",
       "690ca9d3-5cfa-442d-805b-e34d24a672ee     17398\n",
       "07af8a30-1ac9-47e0-98f1-410eb187e9d3     16688\n",
       "                                         ...  \n",
       "2825c515-cac6-46b7-95f3-5a961af8afde         6\n",
       "f5f17b99-6c98-4a8a-9ce9-08f89da5ad5c         6\n",
       "84a9c8e5-bcfd-4f21-bfde-a3beeec0ccb4         3\n",
       "8ee03789-64ed-4a98-ac1b-73913a34e50b         1\n",
       "bb4a4ce1-eb7b-4738-ba4b-15cdb50cdfc8         1\n",
       "Name: User, Length: 88, dtype: int64"
      ]
     },
     "execution_count": 119,
     "metadata": {},
     "output_type": "execute_result"
    }
   ],
   "source": [
    "df_slurm.User.value_counts()"
   ]
  },
  {
   "attachments": {},
   "cell_type": "markdown",
   "metadata": {},
   "source": [
    "### 3.11 AllocMem"
   ]
  },
  {
   "attachments": {},
   "cell_type": "markdown",
   "metadata": {},
   "source": [
    "Die Werte sind als String teilweise in Mb und teilweise in Gb angegeben. Diese werden nun alle zu einem Int Wert in Mb umgewandelt. Da die Bedeutung der Buchstaben 'c' und 'n' in diesem Fall nicht ganz klar ist, werden diese herausgefiltert. "
   ]
  },
  {
   "cell_type": "code",
   "execution_count": 120,
   "metadata": {},
   "outputs": [
    {
     "data": {
      "text/plain": [
       "array(['5925G', '2962.50G', '1516800M', '189600M', '758400M', '379200M',\n",
       "       '7900M', '11850G', '1896000M', '568800M', '5498400M', '5308800M',\n",
       "       '5119200M', '2844000M', '23700G', '1520000M', '760000M',\n",
       "       '1137600M', '15926400M', '6825600M', '18960000M', '20737.50G',\n",
       "       '21804000M', '190000M', '3040000M', '17443200M', '380000M',\n",
       "       '5937.50G', '11976M', '44880M', '26400M', '11875G', '47976M',\n",
       "       '6120000M', '4550400M', '7G', '1706400M', '2275200M', '1530000M',\n",
       "       '10238400M', '13651200M', '3412800M', '1526400M', '1327200M',\n",
       "       '3981600M', '240M', '3052800M', '90G', '500G', '180G', '600G',\n",
       "       '3060000M', '2654400M', '6840000M', '12000M', '32000M', '50000M',\n",
       "       '3792000M', '1000M', '3602400M', '500M', '7015200M', '24G',\n",
       "       '4929600M', '31680M', '6256800M', '624M', '52800M', '6G', '15800M',\n",
       "       '96G', '79000M', '5688000M', '144G', '17064000M', '100000M',\n",
       "       '7600M', '47400M', '63200M', '23700M', '2640M', '5280M', '4776M',\n",
       "       '158000M', '948000M', '1176M', '55200M', '31600M', '105600M',\n",
       "       '66000M', '158400M', '184800M', '132000M', '2085600M', '187200M',\n",
       "       '5976M', '21600M', '131952M', '2500M', '148.50G', '39500M',\n",
       "       '23976M', '57600M', '47520M', '94800M', '119976M', '108120M',\n",
       "       '9576M', '168000M', '79200M', '71100M', '54000M', '95976M',\n",
       "       '144000M', '59976M', '72000M', '18000M', '100800M', '67176M',\n",
       "       '108000M', '90000M', '96000M', '600M', '127992M', '150000M',\n",
       "       '120000M', '331200M', '26376M', '36000M', '13200M', '38376M',\n",
       "       '43200M', '28800M', '93600M', '31176M', '50400M', '336000M',\n",
       "       '87120M', '86400M', '175968M', '91176M', '126000M', '4000M',\n",
       "       '112.50G', '105576M', '180000M', '9984M', '153840M', '55300M',\n",
       "       '42000M', '4800M', '126400M', '94G', '179G', '177G', '6000M',\n",
       "       '16000M', '2000M', '15G', '72G', '14400M', '62376M', '4740000M',\n",
       "       '6636000M', '8532000M', '21000M', '187440M', '188760M', '46800M',\n",
       "       '5962.50G', '120576M', '48G', '125000M', '142200M', '150480M',\n",
       "       '172800M', '156000M', '60000M', '480M', '72M', '3600M', '4579200M',\n",
       "       '188088M', '123600M', '937.50G', '12264M', '145200M'], dtype=object)"
      ]
     },
     "execution_count": 120,
     "metadata": {},
     "output_type": "execute_result"
    }
   ],
   "source": [
    "df_slurm.AllocMem.fillna('nan', inplace=True)\n",
    "df_slurm.AllocMem.unique()"
   ]
  },
  {
   "cell_type": "code",
   "execution_count": 121,
   "metadata": {},
   "outputs": [
    {
     "data": {
      "text/plain": [
       "0"
      ]
     },
     "execution_count": 121,
     "metadata": {},
     "output_type": "execute_result"
    }
   ],
   "source": [
    "df_slurm['AllocMem_in_MB'] = df_slurm.AllocMem.apply(convert_to_mb).astype(float)\n",
    "df_slurm.drop(labels=['AllocMem'], axis=1, inplace=True)\n",
    "df_slurm.AllocMem_in_MB.isna().sum()"
   ]
  },
  {
   "attachments": {},
   "cell_type": "markdown",
   "metadata": {},
   "source": [
    "# 4. Betrachtung"
   ]
  },
  {
   "cell_type": "code",
   "execution_count": 122,
   "metadata": {},
   "outputs": [
    {
     "name": "stdout",
     "output_type": "stream",
     "text": [
      "<class 'pandas.core.frame.DataFrame'>\n",
      "Int64Index: 488519 entries, 0 to 505260\n",
      "Data columns (total 20 columns):\n",
      " #   Column          Non-Null Count   Dtype         \n",
      "---  ------          --------------   -----         \n",
      " 0   Account         488519 non-null  object        \n",
      " 1   AllocCPUS       488519 non-null  int64         \n",
      " 2   AllocNodes      488519 non-null  int64         \n",
      " 3   ElapsedRaw      488519 non-null  int64         \n",
      " 4   ExitCode        488519 non-null  object        \n",
      " 5   Flags           488519 non-null  object        \n",
      " 6   Priority        488519 non-null  int64         \n",
      " 7   Partition       488519 non-null  object        \n",
      " 8   QOSRAW          488519 non-null  int64         \n",
      " 9   ReqCPUS         488519 non-null  int64         \n",
      " 10  ReqNodes        488519 non-null  int64         \n",
      " 11  ResvCPURAW      488519 non-null  int64         \n",
      " 12  Start           488519 non-null  datetime64[ns]\n",
      " 13  TimelimitRaw    488519 non-null  float64       \n",
      " 14  User            488519 non-null  object        \n",
      " 15  ReqBilling      488519 non-null  float64       \n",
      " 16  AllocBilling    488519 non-null  float64       \n",
      " 17  ReqMem_in_MB    488519 non-null  float64       \n",
      " 18  Reserved_in_s   488519 non-null  int64         \n",
      " 19  AllocMem_in_MB  488519 non-null  float64       \n",
      "dtypes: datetime64[ns](1), float64(5), int64(9), object(5)\n",
      "memory usage: 78.3+ MB\n"
     ]
    }
   ],
   "source": [
    "df_slurm.info()"
   ]
  },
  {
   "cell_type": "code",
   "execution_count": 123,
   "metadata": {},
   "outputs": [],
   "source": [
    "df_categorical_features = df_slurm.select_dtypes(include='object')\n",
    "df_numerical_features = df_slurm.select_dtypes(exclude='object')"
   ]
  },
  {
   "cell_type": "code",
   "execution_count": 124,
   "metadata": {},
   "outputs": [
    {
     "data": {
      "text/html": [
       "<div>\n",
       "<style scoped>\n",
       "    .dataframe tbody tr th:only-of-type {\n",
       "        vertical-align: middle;\n",
       "    }\n",
       "\n",
       "    .dataframe tbody tr th {\n",
       "        vertical-align: top;\n",
       "    }\n",
       "\n",
       "    .dataframe thead th {\n",
       "        text-align: right;\n",
       "    }\n",
       "</style>\n",
       "<table border=\"1\" class=\"dataframe\">\n",
       "  <thead>\n",
       "    <tr style=\"text-align: right;\">\n",
       "      <th></th>\n",
       "      <th>AllocCPUS</th>\n",
       "      <th>AllocNodes</th>\n",
       "      <th>ElapsedRaw</th>\n",
       "      <th>Priority</th>\n",
       "      <th>QOSRAW</th>\n",
       "      <th>ReqCPUS</th>\n",
       "      <th>ReqNodes</th>\n",
       "      <th>ResvCPURAW</th>\n",
       "      <th>Start</th>\n",
       "      <th>TimelimitRaw</th>\n",
       "      <th>ReqBilling</th>\n",
       "      <th>AllocBilling</th>\n",
       "      <th>ReqMem_in_MB</th>\n",
       "      <th>Reserved_in_s</th>\n",
       "      <th>AllocMem_in_MB</th>\n",
       "    </tr>\n",
       "  </thead>\n",
       "  <tbody>\n",
       "    <tr>\n",
       "      <th>0</th>\n",
       "      <td>768</td>\n",
       "      <td>32</td>\n",
       "      <td>35</td>\n",
       "      <td>4294901759</td>\n",
       "      <td>1</td>\n",
       "      <td>384</td>\n",
       "      <td>32</td>\n",
       "      <td>0</td>\n",
       "      <td>2020-01-31 16:01:26</td>\n",
       "      <td>7200.0</td>\n",
       "      <td>384.0</td>\n",
       "      <td>32.0</td>\n",
       "      <td>7900.0</td>\n",
       "      <td>0</td>\n",
       "      <td>6067200.0</td>\n",
       "    </tr>\n",
       "    <tr>\n",
       "      <th>1</th>\n",
       "      <td>384</td>\n",
       "      <td>16</td>\n",
       "      <td>167</td>\n",
       "      <td>4294901758</td>\n",
       "      <td>1</td>\n",
       "      <td>192</td>\n",
       "      <td>16</td>\n",
       "      <td>192</td>\n",
       "      <td>2020-01-31 16:02:42</td>\n",
       "      <td>7200.0</td>\n",
       "      <td>192.0</td>\n",
       "      <td>16.0</td>\n",
       "      <td>7900.0</td>\n",
       "      <td>1</td>\n",
       "      <td>3033600.0</td>\n",
       "    </tr>\n",
       "    <tr>\n",
       "      <th>2</th>\n",
       "      <td>384</td>\n",
       "      <td>16</td>\n",
       "      <td>25</td>\n",
       "      <td>4294901757</td>\n",
       "      <td>1</td>\n",
       "      <td>192</td>\n",
       "      <td>16</td>\n",
       "      <td>192</td>\n",
       "      <td>2020-01-31 16:05:04</td>\n",
       "      <td>7200.0</td>\n",
       "      <td>192.0</td>\n",
       "      <td>16.0</td>\n",
       "      <td>7900.0</td>\n",
       "      <td>1</td>\n",
       "      <td>3033600.0</td>\n",
       "    </tr>\n",
       "    <tr>\n",
       "      <th>3</th>\n",
       "      <td>192</td>\n",
       "      <td>8</td>\n",
       "      <td>19</td>\n",
       "      <td>4294901756</td>\n",
       "      <td>1</td>\n",
       "      <td>96</td>\n",
       "      <td>8</td>\n",
       "      <td>96</td>\n",
       "      <td>2020-01-31 16:05:50</td>\n",
       "      <td>7200.0</td>\n",
       "      <td>96.0</td>\n",
       "      <td>8.0</td>\n",
       "      <td>7900.0</td>\n",
       "      <td>1</td>\n",
       "      <td>1516800.0</td>\n",
       "    </tr>\n",
       "    <tr>\n",
       "      <th>4</th>\n",
       "      <td>24</td>\n",
       "      <td>1</td>\n",
       "      <td>236</td>\n",
       "      <td>4294901755</td>\n",
       "      <td>1</td>\n",
       "      <td>1</td>\n",
       "      <td>1</td>\n",
       "      <td>0</td>\n",
       "      <td>2020-01-31 16:28:49</td>\n",
       "      <td>1440.0</td>\n",
       "      <td>1.0</td>\n",
       "      <td>1.0</td>\n",
       "      <td>7900.0</td>\n",
       "      <td>0</td>\n",
       "      <td>189600.0</td>\n",
       "    </tr>\n",
       "    <tr>\n",
       "      <th>...</th>\n",
       "      <td>...</td>\n",
       "      <td>...</td>\n",
       "      <td>...</td>\n",
       "      <td>...</td>\n",
       "      <td>...</td>\n",
       "      <td>...</td>\n",
       "      <td>...</td>\n",
       "      <td>...</td>\n",
       "      <td>...</td>\n",
       "      <td>...</td>\n",
       "      <td>...</td>\n",
       "      <td>...</td>\n",
       "      <td>...</td>\n",
       "      <td>...</td>\n",
       "      <td>...</td>\n",
       "    </tr>\n",
       "    <tr>\n",
       "      <th>505256</th>\n",
       "      <td>24</td>\n",
       "      <td>1</td>\n",
       "      <td>61</td>\n",
       "      <td>381</td>\n",
       "      <td>1</td>\n",
       "      <td>24</td>\n",
       "      <td>1</td>\n",
       "      <td>0</td>\n",
       "      <td>2022-03-31 19:50:07</td>\n",
       "      <td>120.0</td>\n",
       "      <td>24.0</td>\n",
       "      <td>1.0</td>\n",
       "      <td>7900.0</td>\n",
       "      <td>0</td>\n",
       "      <td>189600.0</td>\n",
       "    </tr>\n",
       "    <tr>\n",
       "      <th>505257</th>\n",
       "      <td>24</td>\n",
       "      <td>1</td>\n",
       "      <td>1057</td>\n",
       "      <td>381</td>\n",
       "      <td>1</td>\n",
       "      <td>12</td>\n",
       "      <td>1</td>\n",
       "      <td>0</td>\n",
       "      <td>2022-03-31 19:51:08</td>\n",
       "      <td>120.0</td>\n",
       "      <td>12.0</td>\n",
       "      <td>1.0</td>\n",
       "      <td>7900.0</td>\n",
       "      <td>0</td>\n",
       "      <td>189600.0</td>\n",
       "    </tr>\n",
       "    <tr>\n",
       "      <th>505258</th>\n",
       "      <td>48</td>\n",
       "      <td>1</td>\n",
       "      <td>681</td>\n",
       "      <td>281</td>\n",
       "      <td>14</td>\n",
       "      <td>48</td>\n",
       "      <td>1</td>\n",
       "      <td>0</td>\n",
       "      <td>2022-03-31 20:08:45</td>\n",
       "      <td>480.0</td>\n",
       "      <td>48.0</td>\n",
       "      <td>1.0</td>\n",
       "      <td>31800.0</td>\n",
       "      <td>0</td>\n",
       "      <td>1526400.0</td>\n",
       "    </tr>\n",
       "    <tr>\n",
       "      <th>505259</th>\n",
       "      <td>24</td>\n",
       "      <td>1</td>\n",
       "      <td>70</td>\n",
       "      <td>381</td>\n",
       "      <td>1</td>\n",
       "      <td>24</td>\n",
       "      <td>1</td>\n",
       "      <td>24</td>\n",
       "      <td>2022-03-31 19:50:21</td>\n",
       "      <td>120.0</td>\n",
       "      <td>24.0</td>\n",
       "      <td>1.0</td>\n",
       "      <td>7900.0</td>\n",
       "      <td>1</td>\n",
       "      <td>189600.0</td>\n",
       "    </tr>\n",
       "    <tr>\n",
       "      <th>505260</th>\n",
       "      <td>24</td>\n",
       "      <td>1</td>\n",
       "      <td>7207</td>\n",
       "      <td>381</td>\n",
       "      <td>1</td>\n",
       "      <td>12</td>\n",
       "      <td>1</td>\n",
       "      <td>0</td>\n",
       "      <td>2022-03-31 19:51:31</td>\n",
       "      <td>120.0</td>\n",
       "      <td>12.0</td>\n",
       "      <td>1.0</td>\n",
       "      <td>7900.0</td>\n",
       "      <td>0</td>\n",
       "      <td>189600.0</td>\n",
       "    </tr>\n",
       "  </tbody>\n",
       "</table>\n",
       "<p>488519 rows × 15 columns</p>\n",
       "</div>"
      ],
      "text/plain": [
       "        AllocCPUS  AllocNodes  ElapsedRaw    Priority  QOSRAW  ReqCPUS  \\\n",
       "0             768          32          35  4294901759       1      384   \n",
       "1             384          16         167  4294901758       1      192   \n",
       "2             384          16          25  4294901757       1      192   \n",
       "3             192           8          19  4294901756       1       96   \n",
       "4              24           1         236  4294901755       1        1   \n",
       "...           ...         ...         ...         ...     ...      ...   \n",
       "505256         24           1          61         381       1       24   \n",
       "505257         24           1        1057         381       1       12   \n",
       "505258         48           1         681         281      14       48   \n",
       "505259         24           1          70         381       1       24   \n",
       "505260         24           1        7207         381       1       12   \n",
       "\n",
       "        ReqNodes  ResvCPURAW               Start  TimelimitRaw  ReqBilling  \\\n",
       "0             32           0 2020-01-31 16:01:26        7200.0       384.0   \n",
       "1             16         192 2020-01-31 16:02:42        7200.0       192.0   \n",
       "2             16         192 2020-01-31 16:05:04        7200.0       192.0   \n",
       "3              8          96 2020-01-31 16:05:50        7200.0        96.0   \n",
       "4              1           0 2020-01-31 16:28:49        1440.0         1.0   \n",
       "...          ...         ...                 ...           ...         ...   \n",
       "505256         1           0 2022-03-31 19:50:07         120.0        24.0   \n",
       "505257         1           0 2022-03-31 19:51:08         120.0        12.0   \n",
       "505258         1           0 2022-03-31 20:08:45         480.0        48.0   \n",
       "505259         1          24 2022-03-31 19:50:21         120.0        24.0   \n",
       "505260         1           0 2022-03-31 19:51:31         120.0        12.0   \n",
       "\n",
       "        AllocBilling  ReqMem_in_MB  Reserved_in_s  AllocMem_in_MB  \n",
       "0               32.0        7900.0              0       6067200.0  \n",
       "1               16.0        7900.0              1       3033600.0  \n",
       "2               16.0        7900.0              1       3033600.0  \n",
       "3                8.0        7900.0              1       1516800.0  \n",
       "4                1.0        7900.0              0        189600.0  \n",
       "...              ...           ...            ...             ...  \n",
       "505256           1.0        7900.0              0        189600.0  \n",
       "505257           1.0        7900.0              0        189600.0  \n",
       "505258           1.0       31800.0              0       1526400.0  \n",
       "505259           1.0        7900.0              1        189600.0  \n",
       "505260           1.0        7900.0              0        189600.0  \n",
       "\n",
       "[488519 rows x 15 columns]"
      ]
     },
     "execution_count": 124,
     "metadata": {},
     "output_type": "execute_result"
    }
   ],
   "source": [
    "df_numerical_features"
   ]
  },
  {
   "cell_type": "code",
   "execution_count": 125,
   "metadata": {},
   "outputs": [
    {
     "data": {
      "text/html": [
       "<div>\n",
       "<style scoped>\n",
       "    .dataframe tbody tr th:only-of-type {\n",
       "        vertical-align: middle;\n",
       "    }\n",
       "\n",
       "    .dataframe tbody tr th {\n",
       "        vertical-align: top;\n",
       "    }\n",
       "\n",
       "    .dataframe thead th {\n",
       "        text-align: right;\n",
       "    }\n",
       "</style>\n",
       "<table border=\"1\" class=\"dataframe\">\n",
       "  <thead>\n",
       "    <tr style=\"text-align: right;\">\n",
       "      <th></th>\n",
       "      <th>Account</th>\n",
       "      <th>ExitCode</th>\n",
       "      <th>Flags</th>\n",
       "      <th>Partition</th>\n",
       "      <th>User</th>\n",
       "    </tr>\n",
       "  </thead>\n",
       "  <tbody>\n",
       "    <tr>\n",
       "      <th>0</th>\n",
       "      <td>94f78603-6e51-40ca-99c6-b494ac1ee324</td>\n",
       "      <td>0:0</td>\n",
       "      <td>SchedBackfill</td>\n",
       "      <td>regular</td>\n",
       "      <td>1f847aac-d8bf-40ea-b747-405efe2ce745</td>\n",
       "    </tr>\n",
       "    <tr>\n",
       "      <th>1</th>\n",
       "      <td>94f78603-6e51-40ca-99c6-b494ac1ee324</td>\n",
       "      <td>other</td>\n",
       "      <td>SchedMain</td>\n",
       "      <td>regular</td>\n",
       "      <td>1f847aac-d8bf-40ea-b747-405efe2ce745</td>\n",
       "    </tr>\n",
       "    <tr>\n",
       "      <th>2</th>\n",
       "      <td>94f78603-6e51-40ca-99c6-b494ac1ee324</td>\n",
       "      <td>0:0</td>\n",
       "      <td>SchedMain</td>\n",
       "      <td>regular</td>\n",
       "      <td>1f847aac-d8bf-40ea-b747-405efe2ce745</td>\n",
       "    </tr>\n",
       "    <tr>\n",
       "      <th>3</th>\n",
       "      <td>94f78603-6e51-40ca-99c6-b494ac1ee324</td>\n",
       "      <td>0:0</td>\n",
       "      <td>SchedMain</td>\n",
       "      <td>regular</td>\n",
       "      <td>1f847aac-d8bf-40ea-b747-405efe2ce745</td>\n",
       "    </tr>\n",
       "    <tr>\n",
       "      <th>4</th>\n",
       "      <td>ee18ced8-5c8f-4b12-a606-6b282105d967</td>\n",
       "      <td>0:0</td>\n",
       "      <td>SchedSubmit</td>\n",
       "      <td>regular</td>\n",
       "      <td>eed47b6a-a483-4194-85a6-8ae0f6ca5adb</td>\n",
       "    </tr>\n",
       "    <tr>\n",
       "      <th>...</th>\n",
       "      <td>...</td>\n",
       "      <td>...</td>\n",
       "      <td>...</td>\n",
       "      <td>...</td>\n",
       "      <td>...</td>\n",
       "    </tr>\n",
       "    <tr>\n",
       "      <th>505256</th>\n",
       "      <td>55834e52-7e74-4ef2-a69a-52999d4d4489</td>\n",
       "      <td>0:0</td>\n",
       "      <td>SchedMain</td>\n",
       "      <td>short</td>\n",
       "      <td>2f05aba9-8619-46a0-8471-d41ead3352d0</td>\n",
       "    </tr>\n",
       "    <tr>\n",
       "      <th>505257</th>\n",
       "      <td>55834e52-7e74-4ef2-a69a-52999d4d4489</td>\n",
       "      <td>0:0</td>\n",
       "      <td>SchedMain</td>\n",
       "      <td>short</td>\n",
       "      <td>2f05aba9-8619-46a0-8471-d41ead3352d0</td>\n",
       "    </tr>\n",
       "    <tr>\n",
       "      <th>505258</th>\n",
       "      <td>55834e52-7e74-4ef2-a69a-52999d4d4489</td>\n",
       "      <td>0:0</td>\n",
       "      <td>SchedMain</td>\n",
       "      <td>bigmem</td>\n",
       "      <td>2f05aba9-8619-46a0-8471-d41ead3352d0</td>\n",
       "    </tr>\n",
       "    <tr>\n",
       "      <th>505259</th>\n",
       "      <td>55834e52-7e74-4ef2-a69a-52999d4d4489</td>\n",
       "      <td>0:0</td>\n",
       "      <td>SchedMain</td>\n",
       "      <td>short</td>\n",
       "      <td>2f05aba9-8619-46a0-8471-d41ead3352d0</td>\n",
       "    </tr>\n",
       "    <tr>\n",
       "      <th>505260</th>\n",
       "      <td>55834e52-7e74-4ef2-a69a-52999d4d4489</td>\n",
       "      <td>0:0</td>\n",
       "      <td>SchedMain</td>\n",
       "      <td>short</td>\n",
       "      <td>2f05aba9-8619-46a0-8471-d41ead3352d0</td>\n",
       "    </tr>\n",
       "  </tbody>\n",
       "</table>\n",
       "<p>488519 rows × 5 columns</p>\n",
       "</div>"
      ],
      "text/plain": [
       "                                     Account ExitCode          Flags  \\\n",
       "0       94f78603-6e51-40ca-99c6-b494ac1ee324      0:0  SchedBackfill   \n",
       "1       94f78603-6e51-40ca-99c6-b494ac1ee324    other      SchedMain   \n",
       "2       94f78603-6e51-40ca-99c6-b494ac1ee324      0:0      SchedMain   \n",
       "3       94f78603-6e51-40ca-99c6-b494ac1ee324      0:0      SchedMain   \n",
       "4       ee18ced8-5c8f-4b12-a606-6b282105d967      0:0    SchedSubmit   \n",
       "...                                      ...      ...            ...   \n",
       "505256  55834e52-7e74-4ef2-a69a-52999d4d4489      0:0      SchedMain   \n",
       "505257  55834e52-7e74-4ef2-a69a-52999d4d4489      0:0      SchedMain   \n",
       "505258  55834e52-7e74-4ef2-a69a-52999d4d4489      0:0      SchedMain   \n",
       "505259  55834e52-7e74-4ef2-a69a-52999d4d4489      0:0      SchedMain   \n",
       "505260  55834e52-7e74-4ef2-a69a-52999d4d4489      0:0      SchedMain   \n",
       "\n",
       "       Partition                                  User  \n",
       "0        regular  1f847aac-d8bf-40ea-b747-405efe2ce745  \n",
       "1        regular  1f847aac-d8bf-40ea-b747-405efe2ce745  \n",
       "2        regular  1f847aac-d8bf-40ea-b747-405efe2ce745  \n",
       "3        regular  1f847aac-d8bf-40ea-b747-405efe2ce745  \n",
       "4        regular  eed47b6a-a483-4194-85a6-8ae0f6ca5adb  \n",
       "...          ...                                   ...  \n",
       "505256     short  2f05aba9-8619-46a0-8471-d41ead3352d0  \n",
       "505257     short  2f05aba9-8619-46a0-8471-d41ead3352d0  \n",
       "505258    bigmem  2f05aba9-8619-46a0-8471-d41ead3352d0  \n",
       "505259     short  2f05aba9-8619-46a0-8471-d41ead3352d0  \n",
       "505260     short  2f05aba9-8619-46a0-8471-d41ead3352d0  \n",
       "\n",
       "[488519 rows x 5 columns]"
      ]
     },
     "execution_count": 125,
     "metadata": {},
     "output_type": "execute_result"
    }
   ],
   "source": [
    "df_categorical_features"
   ]
  },
  {
   "cell_type": "code",
   "execution_count": 127,
   "metadata": {},
   "outputs": [
    {
     "data": {
      "text/plain": [
       "(488519, 20)"
      ]
     },
     "execution_count": 127,
     "metadata": {},
     "output_type": "execute_result"
    }
   ],
   "source": [
    "df_slurm.shape"
   ]
  },
  {
   "cell_type": "code",
   "execution_count": 128,
   "metadata": {},
   "outputs": [
    {
     "data": {
      "text/html": [
       "<div>\n",
       "<style scoped>\n",
       "    .dataframe tbody tr th:only-of-type {\n",
       "        vertical-align: middle;\n",
       "    }\n",
       "\n",
       "    .dataframe tbody tr th {\n",
       "        vertical-align: top;\n",
       "    }\n",
       "\n",
       "    .dataframe thead th {\n",
       "        text-align: right;\n",
       "    }\n",
       "</style>\n",
       "<table border=\"1\" class=\"dataframe\">\n",
       "  <thead>\n",
       "    <tr style=\"text-align: right;\">\n",
       "      <th></th>\n",
       "      <th>AllocCPUS</th>\n",
       "      <th>AllocNodes</th>\n",
       "      <th>ElapsedRaw</th>\n",
       "      <th>Priority</th>\n",
       "      <th>QOSRAW</th>\n",
       "      <th>ReqCPUS</th>\n",
       "      <th>ReqNodes</th>\n",
       "      <th>ResvCPURAW</th>\n",
       "      <th>TimelimitRaw</th>\n",
       "      <th>ReqBilling</th>\n",
       "      <th>AllocBilling</th>\n",
       "      <th>ReqMem_in_MB</th>\n",
       "      <th>Reserved_in_s</th>\n",
       "      <th>AllocMem_in_MB</th>\n",
       "    </tr>\n",
       "  </thead>\n",
       "  <tbody>\n",
       "    <tr>\n",
       "      <th>AllocCPUS</th>\n",
       "      <td>1.0</td>\n",
       "      <td>NaN</td>\n",
       "      <td>NaN</td>\n",
       "      <td>NaN</td>\n",
       "      <td>NaN</td>\n",
       "      <td>NaN</td>\n",
       "      <td>NaN</td>\n",
       "      <td>NaN</td>\n",
       "      <td>NaN</td>\n",
       "      <td>NaN</td>\n",
       "      <td>NaN</td>\n",
       "      <td>NaN</td>\n",
       "      <td>NaN</td>\n",
       "      <td>NaN</td>\n",
       "    </tr>\n",
       "    <tr>\n",
       "      <th>AllocNodes</th>\n",
       "      <td>NaN</td>\n",
       "      <td>1.0</td>\n",
       "      <td>NaN</td>\n",
       "      <td>NaN</td>\n",
       "      <td>NaN</td>\n",
       "      <td>NaN</td>\n",
       "      <td>NaN</td>\n",
       "      <td>NaN</td>\n",
       "      <td>NaN</td>\n",
       "      <td>NaN</td>\n",
       "      <td>1.0</td>\n",
       "      <td>NaN</td>\n",
       "      <td>NaN</td>\n",
       "      <td>NaN</td>\n",
       "    </tr>\n",
       "    <tr>\n",
       "      <th>ElapsedRaw</th>\n",
       "      <td>NaN</td>\n",
       "      <td>NaN</td>\n",
       "      <td>1.0</td>\n",
       "      <td>NaN</td>\n",
       "      <td>NaN</td>\n",
       "      <td>NaN</td>\n",
       "      <td>NaN</td>\n",
       "      <td>NaN</td>\n",
       "      <td>NaN</td>\n",
       "      <td>NaN</td>\n",
       "      <td>NaN</td>\n",
       "      <td>NaN</td>\n",
       "      <td>NaN</td>\n",
       "      <td>NaN</td>\n",
       "    </tr>\n",
       "    <tr>\n",
       "      <th>Priority</th>\n",
       "      <td>NaN</td>\n",
       "      <td>NaN</td>\n",
       "      <td>NaN</td>\n",
       "      <td>1.0</td>\n",
       "      <td>NaN</td>\n",
       "      <td>NaN</td>\n",
       "      <td>NaN</td>\n",
       "      <td>NaN</td>\n",
       "      <td>NaN</td>\n",
       "      <td>NaN</td>\n",
       "      <td>NaN</td>\n",
       "      <td>NaN</td>\n",
       "      <td>NaN</td>\n",
       "      <td>NaN</td>\n",
       "    </tr>\n",
       "    <tr>\n",
       "      <th>QOSRAW</th>\n",
       "      <td>NaN</td>\n",
       "      <td>NaN</td>\n",
       "      <td>NaN</td>\n",
       "      <td>NaN</td>\n",
       "      <td>1.0</td>\n",
       "      <td>NaN</td>\n",
       "      <td>NaN</td>\n",
       "      <td>NaN</td>\n",
       "      <td>NaN</td>\n",
       "      <td>NaN</td>\n",
       "      <td>NaN</td>\n",
       "      <td>NaN</td>\n",
       "      <td>NaN</td>\n",
       "      <td>NaN</td>\n",
       "    </tr>\n",
       "    <tr>\n",
       "      <th>ReqCPUS</th>\n",
       "      <td>NaN</td>\n",
       "      <td>NaN</td>\n",
       "      <td>NaN</td>\n",
       "      <td>NaN</td>\n",
       "      <td>NaN</td>\n",
       "      <td>1.0</td>\n",
       "      <td>NaN</td>\n",
       "      <td>NaN</td>\n",
       "      <td>NaN</td>\n",
       "      <td>NaN</td>\n",
       "      <td>NaN</td>\n",
       "      <td>NaN</td>\n",
       "      <td>NaN</td>\n",
       "      <td>NaN</td>\n",
       "    </tr>\n",
       "    <tr>\n",
       "      <th>ReqNodes</th>\n",
       "      <td>NaN</td>\n",
       "      <td>NaN</td>\n",
       "      <td>NaN</td>\n",
       "      <td>NaN</td>\n",
       "      <td>NaN</td>\n",
       "      <td>NaN</td>\n",
       "      <td>1.0</td>\n",
       "      <td>NaN</td>\n",
       "      <td>NaN</td>\n",
       "      <td>NaN</td>\n",
       "      <td>NaN</td>\n",
       "      <td>NaN</td>\n",
       "      <td>NaN</td>\n",
       "      <td>NaN</td>\n",
       "    </tr>\n",
       "    <tr>\n",
       "      <th>ResvCPURAW</th>\n",
       "      <td>NaN</td>\n",
       "      <td>NaN</td>\n",
       "      <td>NaN</td>\n",
       "      <td>NaN</td>\n",
       "      <td>NaN</td>\n",
       "      <td>NaN</td>\n",
       "      <td>NaN</td>\n",
       "      <td>1.0</td>\n",
       "      <td>NaN</td>\n",
       "      <td>NaN</td>\n",
       "      <td>NaN</td>\n",
       "      <td>NaN</td>\n",
       "      <td>NaN</td>\n",
       "      <td>NaN</td>\n",
       "    </tr>\n",
       "    <tr>\n",
       "      <th>TimelimitRaw</th>\n",
       "      <td>NaN</td>\n",
       "      <td>NaN</td>\n",
       "      <td>NaN</td>\n",
       "      <td>NaN</td>\n",
       "      <td>NaN</td>\n",
       "      <td>NaN</td>\n",
       "      <td>NaN</td>\n",
       "      <td>NaN</td>\n",
       "      <td>1.0</td>\n",
       "      <td>NaN</td>\n",
       "      <td>NaN</td>\n",
       "      <td>NaN</td>\n",
       "      <td>NaN</td>\n",
       "      <td>NaN</td>\n",
       "    </tr>\n",
       "    <tr>\n",
       "      <th>ReqBilling</th>\n",
       "      <td>NaN</td>\n",
       "      <td>NaN</td>\n",
       "      <td>NaN</td>\n",
       "      <td>NaN</td>\n",
       "      <td>NaN</td>\n",
       "      <td>NaN</td>\n",
       "      <td>NaN</td>\n",
       "      <td>NaN</td>\n",
       "      <td>NaN</td>\n",
       "      <td>1.0</td>\n",
       "      <td>NaN</td>\n",
       "      <td>NaN</td>\n",
       "      <td>NaN</td>\n",
       "      <td>NaN</td>\n",
       "    </tr>\n",
       "    <tr>\n",
       "      <th>AllocBilling</th>\n",
       "      <td>NaN</td>\n",
       "      <td>1.0</td>\n",
       "      <td>NaN</td>\n",
       "      <td>NaN</td>\n",
       "      <td>NaN</td>\n",
       "      <td>NaN</td>\n",
       "      <td>NaN</td>\n",
       "      <td>NaN</td>\n",
       "      <td>NaN</td>\n",
       "      <td>NaN</td>\n",
       "      <td>1.0</td>\n",
       "      <td>NaN</td>\n",
       "      <td>NaN</td>\n",
       "      <td>NaN</td>\n",
       "    </tr>\n",
       "    <tr>\n",
       "      <th>ReqMem_in_MB</th>\n",
       "      <td>NaN</td>\n",
       "      <td>NaN</td>\n",
       "      <td>NaN</td>\n",
       "      <td>NaN</td>\n",
       "      <td>NaN</td>\n",
       "      <td>NaN</td>\n",
       "      <td>NaN</td>\n",
       "      <td>NaN</td>\n",
       "      <td>NaN</td>\n",
       "      <td>NaN</td>\n",
       "      <td>NaN</td>\n",
       "      <td>1.0</td>\n",
       "      <td>NaN</td>\n",
       "      <td>NaN</td>\n",
       "    </tr>\n",
       "    <tr>\n",
       "      <th>Reserved_in_s</th>\n",
       "      <td>NaN</td>\n",
       "      <td>NaN</td>\n",
       "      <td>NaN</td>\n",
       "      <td>NaN</td>\n",
       "      <td>NaN</td>\n",
       "      <td>NaN</td>\n",
       "      <td>NaN</td>\n",
       "      <td>NaN</td>\n",
       "      <td>NaN</td>\n",
       "      <td>NaN</td>\n",
       "      <td>NaN</td>\n",
       "      <td>NaN</td>\n",
       "      <td>1.0</td>\n",
       "      <td>NaN</td>\n",
       "    </tr>\n",
       "    <tr>\n",
       "      <th>AllocMem_in_MB</th>\n",
       "      <td>NaN</td>\n",
       "      <td>NaN</td>\n",
       "      <td>NaN</td>\n",
       "      <td>NaN</td>\n",
       "      <td>NaN</td>\n",
       "      <td>NaN</td>\n",
       "      <td>NaN</td>\n",
       "      <td>NaN</td>\n",
       "      <td>NaN</td>\n",
       "      <td>NaN</td>\n",
       "      <td>NaN</td>\n",
       "      <td>NaN</td>\n",
       "      <td>NaN</td>\n",
       "      <td>1.0</td>\n",
       "    </tr>\n",
       "  </tbody>\n",
       "</table>\n",
       "</div>"
      ],
      "text/plain": [
       "                AllocCPUS  AllocNodes  ElapsedRaw  Priority  QOSRAW  ReqCPUS  \\\n",
       "AllocCPUS             1.0         NaN         NaN       NaN     NaN      NaN   \n",
       "AllocNodes            NaN         1.0         NaN       NaN     NaN      NaN   \n",
       "ElapsedRaw            NaN         NaN         1.0       NaN     NaN      NaN   \n",
       "Priority              NaN         NaN         NaN       1.0     NaN      NaN   \n",
       "QOSRAW                NaN         NaN         NaN       NaN     1.0      NaN   \n",
       "ReqCPUS               NaN         NaN         NaN       NaN     NaN      1.0   \n",
       "ReqNodes              NaN         NaN         NaN       NaN     NaN      NaN   \n",
       "ResvCPURAW            NaN         NaN         NaN       NaN     NaN      NaN   \n",
       "TimelimitRaw          NaN         NaN         NaN       NaN     NaN      NaN   \n",
       "ReqBilling            NaN         NaN         NaN       NaN     NaN      NaN   \n",
       "AllocBilling          NaN         1.0         NaN       NaN     NaN      NaN   \n",
       "ReqMem_in_MB          NaN         NaN         NaN       NaN     NaN      NaN   \n",
       "Reserved_in_s         NaN         NaN         NaN       NaN     NaN      NaN   \n",
       "AllocMem_in_MB        NaN         NaN         NaN       NaN     NaN      NaN   \n",
       "\n",
       "                ReqNodes  ResvCPURAW  TimelimitRaw  ReqBilling  AllocBilling  \\\n",
       "AllocCPUS            NaN         NaN           NaN         NaN           NaN   \n",
       "AllocNodes           NaN         NaN           NaN         NaN           1.0   \n",
       "ElapsedRaw           NaN         NaN           NaN         NaN           NaN   \n",
       "Priority             NaN         NaN           NaN         NaN           NaN   \n",
       "QOSRAW               NaN         NaN           NaN         NaN           NaN   \n",
       "ReqCPUS              NaN         NaN           NaN         NaN           NaN   \n",
       "ReqNodes             1.0         NaN           NaN         NaN           NaN   \n",
       "ResvCPURAW           NaN         1.0           NaN         NaN           NaN   \n",
       "TimelimitRaw         NaN         NaN           1.0         NaN           NaN   \n",
       "ReqBilling           NaN         NaN           NaN         1.0           NaN   \n",
       "AllocBilling         NaN         NaN           NaN         NaN           1.0   \n",
       "ReqMem_in_MB         NaN         NaN           NaN         NaN           NaN   \n",
       "Reserved_in_s        NaN         NaN           NaN         NaN           NaN   \n",
       "AllocMem_in_MB       NaN         NaN           NaN         NaN           NaN   \n",
       "\n",
       "                ReqMem_in_MB  Reserved_in_s  AllocMem_in_MB  \n",
       "AllocCPUS                NaN            NaN             NaN  \n",
       "AllocNodes               NaN            NaN             NaN  \n",
       "ElapsedRaw               NaN            NaN             NaN  \n",
       "Priority                 NaN            NaN             NaN  \n",
       "QOSRAW                   NaN            NaN             NaN  \n",
       "ReqCPUS                  NaN            NaN             NaN  \n",
       "ReqNodes                 NaN            NaN             NaN  \n",
       "ResvCPURAW               NaN            NaN             NaN  \n",
       "TimelimitRaw             NaN            NaN             NaN  \n",
       "ReqBilling               NaN            NaN             NaN  \n",
       "AllocBilling             NaN            NaN             NaN  \n",
       "ReqMem_in_MB             1.0            NaN             NaN  \n",
       "Reserved_in_s            NaN            1.0             NaN  \n",
       "AllocMem_in_MB           NaN            NaN             1.0  "
      ]
     },
     "execution_count": 128,
     "metadata": {},
     "output_type": "execute_result"
    }
   ],
   "source": [
    "df_slurm.corr()[df_slurm.corr()==1]"
   ]
  },
  {
   "attachments": {},
   "cell_type": "markdown",
   "metadata": {},
   "source": [
    "Hier fällt auf, dass AllocNode und AllocBilling noch eine Korrelation von 1 haben. AllocBilling wird hier also entfernt, womit die Datensatzbereinigung abgeschlossen ist."
   ]
  },
  {
   "cell_type": "code",
   "execution_count": 129,
   "metadata": {},
   "outputs": [],
   "source": [
    "df_slurm.drop('AllocBilling', axis=1, inplace=True)"
   ]
  },
  {
   "attachments": {},
   "cell_type": "markdown",
   "metadata": {},
   "source": [
    "Exportieren in eine csv, die dann eingelesen werden kann."
   ]
  },
  {
   "cell_type": "code",
   "execution_count": 130,
   "metadata": {},
   "outputs": [],
   "source": [
    "df_slurm.to_csv(\"tweaked_datasets/slurm_dataset_tweaked.csv\")"
   ]
  },
  {
   "attachments": {},
   "cell_type": "markdown",
   "metadata": {},
   "source": []
  }
 ],
 "metadata": {
  "kernelspec": {
   "display_name": "Python 3 (ipykernel)",
   "language": "python",
   "name": "python3"
  },
  "language_info": {
   "codemirror_mode": {
    "name": "ipython",
    "version": 3
   },
   "file_extension": ".py",
   "mimetype": "text/x-python",
   "name": "python",
   "nbconvert_exporter": "python",
   "pygments_lexer": "ipython3",
   "version": "3.9.13"
  }
 },
 "nbformat": 4,
 "nbformat_minor": 2
}
